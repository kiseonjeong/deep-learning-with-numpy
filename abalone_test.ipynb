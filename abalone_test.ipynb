{
 "metadata": {
  "language_info": {
   "codemirror_mode": {
    "name": "ipython",
    "version": 3
   },
   "file_extension": ".py",
   "mimetype": "text/x-python",
   "name": "python",
   "nbconvert_exporter": "python",
   "pygments_lexer": "ipython3",
   "version": "3.7.4-final"
  },
  "orig_nbformat": 2,
  "kernelspec": {
   "name": "Python 3.7.4 64-bit ('base': conda)",
   "display_name": "Python 3.7.4 64-bit ('base': conda)",
   "metadata": {
    "interpreter": {
     "hash": "c4e1a2703ad1e771c82b84a8f88a753fb706f41d94fcd9ee3348ba5d0f45dba1"
    }
   }
  }
 },
 "nbformat": 4,
 "nbformat_minor": 2,
 "cells": [
  {
   "cell_type": "code",
   "execution_count": 13,
   "metadata": {},
   "outputs": [],
   "source": [
    "%run abalone.ipynb"
   ]
  },
  {
   "cell_type": "code",
   "execution_count": 14,
   "metadata": {},
   "outputs": [
    {
     "output_type": "stream",
     "name": "stdout",
     "text": [
      "Epoch 1: loss=33.789, accuracy=0.557/0.812\n",
      "Epoch 2: loss=8.242, accuracy=0.819/0.815\n",
      "Epoch 3: loss=7.580, accuracy=0.812/0.810\n",
      "Epoch 4: loss=7.470, accuracy=0.809/0.810\n",
      "Epoch 5: loss=7.390, accuracy=0.809/0.810\n",
      "Epoch 6: loss=7.322, accuracy=0.809/0.810\n",
      "Epoch 7: loss=7.264, accuracy=0.809/0.810\n",
      "Epoch 8: loss=7.214, accuracy=0.809/0.810\n",
      "Epoch 9: loss=7.170, accuracy=0.809/0.811\n",
      "Epoch 10: loss=7.130, accuracy=0.809/0.811\n",
      "\n",
      "Final Test: final accuracy = 0.811\n"
     ]
    }
   ],
   "source": [
    "abalone_exec()"
   ]
  },
  {
   "cell_type": "code",
   "execution_count": 15,
   "metadata": {},
   "outputs": [
    {
     "output_type": "stream",
     "name": "stdout",
     "text": [
      "[[1.0257235 ]\n [1.47085395]\n [1.66866096]\n [2.04319302]\n [1.622786  ]\n [0.60257874]\n [2.39670724]\n [0.53869506]\n [0.46810585]\n [1.02055813]]\n[4.16309891]\n"
     ]
    }
   ],
   "source": [
    "print(weight)\n",
    "print(bias)"
   ]
  },
  {
   "cell_type": "code",
   "execution_count": 16,
   "metadata": {},
   "outputs": [
    {
     "output_type": "stream",
     "name": "stdout",
     "text": [
      "Epoch 20: loss=5.764, accuracy=0.825/0.825\n",
      "Epoch 40: loss=5.227, accuracy=0.834/0.833\n",
      "Epoch 60: loss=5.017, accuracy=0.838/0.836\n",
      "Epoch 80: loss=4.931, accuracy=0.839/0.836\n",
      "Epoch 100: loss=4.893, accuracy=0.839/0.837\n",
      "\n",
      "Final Test: final accuracy = 0.837\n"
     ]
    }
   ],
   "source": [
    "LEARNING_RATE = 0.1\n",
    "abalone_exec(epoch_count=100, mb_size=100, report=20)"
   ]
  }
 ]
}