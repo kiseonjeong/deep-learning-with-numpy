{
 "cells": [
  {
   "cell_type": "code",
   "execution_count": 2,
   "metadata": {},
   "outputs": [],
   "source": [
    "%run abalone.ipynb"
   ]
  },
  {
   "cell_type": "code",
   "execution_count": 3,
   "metadata": {},
   "outputs": [],
   "source": [
    "def pulsar_exec(epoch_count=10, mb_size=10, report=1):\r\n",
    "    load_pulsar_dataset()\r\n",
    "    init_model()\r\n",
    "    train_and_test(epoch_count, mb_size, report)"
   ]
  },
  {
   "cell_type": "code",
   "execution_count": 4,
   "metadata": {},
   "outputs": [],
   "source": [
    "def load_pulsar_dataset():\r\n",
    "    with open(\"data/pulsar_stars.csv\") as csvfile:\r\n",
    "        csvreader = csv.reader(csvfile)\r\n",
    "        next(csvreader, None)\r\n",
    "        rows = []\r\n",
    "        for row in csvreader:\r\n",
    "            rows.append(row)\r\n",
    "\r\n",
    "    global data, input_cnt, output_cnt\r\n",
    "    input_cnt, output_cnt = 8, 1\r\n",
    "    data = np.asarray(rows, dtype='float32')"
   ]
  },
  {
   "cell_type": "code",
   "execution_count": 6,
   "metadata": {},
   "outputs": [],
   "source": [
    "def forward_postproc(output, y):\r\n",
    "    entropy = sigmoid_cross_entropy_with_logits(y, output)\r\n",
    "    loss = np.mean(entropy)\r\n",
    "    return loss, [y, output, entropy]\r\n",
    "\r\n",
    "def backprop_postproc(G_loss, aux):\r\n",
    "    y, output, entropy = aux\r\n",
    "\r\n",
    "    g_loss_entropy = 1.0 / np.prod(entropy.shape)\r\n",
    "    g_entropy_output = sigmoid_cross_entropy_with_logits_derv(y, output)\r\n",
    "\r\n",
    "    G_entropy = g_loss_entropy * G_loss\r\n",
    "    G_output = g_entropy_output * G_entropy\r\n",
    "\r\n",
    "    return G_output"
   ]
  },
  {
   "cell_type": "code",
   "execution_count": null,
   "metadata": {},
   "outputs": [],
   "source": [
    "def eval_accuracy(output, y):\r\n",
    "    estimate = np.greater(output, 0)\r\n",
    "    answer = np.greater(y, 0.5)\r\n",
    "    correct = np.equal(estimate, answer)\r\n",
    "\r\n",
    "    return np.mean(correct)"
   ]
  },
  {
   "cell_type": "code",
   "execution_count": 7,
   "metadata": {},
   "outputs": [],
   "source": [
    "def relu(x):\r\n",
    "    return np.maximum(x, 0)\r\n",
    "\r\n",
    "def sigmoid(x):\r\n",
    "    return np.exp(-relu(-x)) / (1.0 + np.exp(-np.abs(x)))\r\n",
    "\r\n",
    "def sigmoid_derv(x, y):\r\n",
    "    return y * (1 - y)\r\n",
    "\r\n",
    "def sigmoid_cross_entropy_with_logits(z, x):\r\n",
    "    return relu(x) - x * z + np.log(1 + np.exp(-np.abs(x)))\r\n",
    "\r\n",
    "def sigmoid_cross_entropy_with_logits_derv(z, x):\r\n",
    "    return -z + sigmoid(x)"
   ]
  },
  {
   "cell_type": "markdown",
   "metadata": {},
   "source": [
    "# TEST block"
   ]
  }
 ],
 "metadata": {
  "interpreter": {
   "hash": "101ba9b0878a37f24d322c2ef0e0a38d9299b41eadd5803319bb00780a61a59d"
  },
  "kernelspec": {
   "display_name": "Python 3.6.10 64-bit ('cv': conda)",
   "name": "python3"
  },
  "language_info": {
   "codemirror_mode": {
    "name": "ipython",
    "version": 3
   },
   "file_extension": ".py",
   "mimetype": "text/x-python",
   "name": "python",
   "nbconvert_exporter": "python",
   "pygments_lexer": "ipython3",
   "version": "3.6.10"
  },
  "orig_nbformat": 4
 },
 "nbformat": 4,
 "nbformat_minor": 2
}