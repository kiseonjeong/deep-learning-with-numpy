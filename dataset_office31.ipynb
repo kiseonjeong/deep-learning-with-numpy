{
 "metadata": {
  "language_info": {
   "codemirror_mode": {
    "name": "ipython",
    "version": 3
   },
   "file_extension": ".py",
   "mimetype": "text/x-python",
   "name": "python",
   "nbconvert_exporter": "python",
   "pygments_lexer": "ipython3",
   "version": "3.7.4-final"
  },
  "orig_nbformat": 2,
  "kernelspec": {
   "name": "python3",
   "display_name": "Python 3"
  }
 },
 "nbformat": 4,
 "nbformat_minor": 2,
 "cells": [
  {
   "cell_type": "code",
   "execution_count": 1,
   "metadata": {},
   "outputs": [],
   "source": [
    "%run dataset.ipynb"
   ]
  },
  {
   "cell_type": "code",
   "execution_count": 2,
   "metadata": {},
   "outputs": [],
   "source": [
    "# The office31 dataset\n",
    "class Office31Dataset(Dataset):\n",
    "    @property\n",
    "    def base(self):\n",
    "        return super(Office31Dataset, self)"
   ]
  },
  {
   "cell_type": "code",
   "execution_count": 3,
   "metadata": {},
   "outputs": [],
   "source": [
    "# Initialize object\n",
    "def office31_init(self, resolution=[100, 100], input_shape=[-1]):\n",
    "    self.base.__init__('office31', 'dual_select')\n",
    "\n",
    "    path = \"office31\"\n",
    "    domain_names = list_dir(path)\n",
    "\n",
    "    images = []\n",
    "    didxs, oidxs = [], []\n",
    "\n",
    "    for dx, dname in enumerate(domain_names):\n",
    "        domainpath = os.path.join(path, dname, 'images')\n",
    "        object_names = list_dir(domainpath)\n",
    "        for ox, oname in enumerate(object_names):\n",
    "            objectpath = os.path.join(domainpath, oname)\n",
    "            filenames = list_dir(objectpath)\n",
    "            for fname in filenames:\n",
    "                if fname[-4:] != '.jpg':\n",
    "                    continue\n",
    "                imagepath = os.path.join(objectpath, fname)\n",
    "                pixels = load_image_pixels(imagepath, resolution, input_shape)\n",
    "                images.append(pixels)\n",
    "                didxs.append(dx)\n",
    "                oidxs.append(ox)\n",
    "\n",
    "    self.image_shape = resolution + [3]\n",
    "\n",
    "    xs = np.asarray(images, np.float32)\n",
    "\n",
    "    ys0 = onehot(didxs, len(domain_names))\n",
    "    ys1 = onehot(oidxs, len(object_names))\n",
    "    ys = np.hstack([ys0, ys1])\n",
    "\n",
    "    self.shuffle_data(xs, ys, 0.8)\n",
    "    self.target_names = [domain_names, object_names]\n",
    "    self.cnts = [len(domain_names)]"
   ]
  },
  {
   "cell_type": "code",
   "execution_count": 1,
   "metadata": {},
   "outputs": [],
   "source": [
    "# Do postprocessing for forward computations\n",
    "def office31_forward_postproc(self, output, y):\n",
    "    outputs, ys = np.hsplit(output, self.cnts), np.hsplit(y, self.cnts)\n",
    "\n",
    "    loss0, aux0 = self.base.forward_postproc(outputs[0], ys[0], 'select')\n",
    "    loss1, aux1 = self.base.forward_postproc(outputs[1], ys[1], 'select')\n",
    "\n",
    "    return loss0 + loss1, [aux0, aux1]"
   ]
  },
  {
   "cell_type": "code",
   "execution_count": 2,
   "metadata": {},
   "outputs": [],
   "source": [
    "# Do postprocessing for back-propagations\n",
    "def office31_backprop_postproc(self, G_loss, aux):\n",
    "    aux0, aux1 = aux\n",
    "\n",
    "    G_output0 = self.base.backprop_postproc(G_loss, aux0, 'select')\n",
    "    G_output1 = self.base.backprop_postproc(G_loss, aux1, 'select')\n",
    "\n",
    "    return np.hstack([G_output0, G_output1])"
   ]
  }
 ]
}