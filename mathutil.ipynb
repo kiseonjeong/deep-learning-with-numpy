{
 "cells": [
  {
   "cell_type": "code",
   "execution_count": 1,
   "source": [
    "import numpy as np\r\n",
    "import time\r\n",
    "import os\r\n",
    "import csv\r\n",
    "import copy\r\n",
    "import wave\r\n",
    "import cv2\r\n",
    "import matplotlib.pyplot as plt\r\n",
    "\r\n",
    "from PIL import Image\r\n",
    "from IPython.core.display import HTML"
   ],
   "outputs": [],
   "metadata": {}
  },
  {
   "cell_type": "code",
   "execution_count": 2,
   "source": [
    "def relu(x):\r\n",
    "    return np.maximum(x, 0)\r\n",
    "\r\n",
    "def relu_derv(y):\r\n",
    "    return np.sign(y)"
   ],
   "outputs": [],
   "metadata": {}
  },
  {
   "cell_type": "code",
   "execution_count": 3,
   "source": [
    "def sigmoid(x):\r\n",
    "    return np.exp(-relu(-x)) / (1.0 + np.exp(-np.abs(x)))\r\n",
    "\r\n",
    "def sigmoid_derv(y):\r\n",
    "    return y * (1 - y)\r\n",
    "\r\n",
    "def sigmoid_cross_entropy_with_logits(z, x):\r\n",
    "    return relu(x) - x * z + np.log(1 + np.exp(-np.abs(x)))\r\n",
    "\r\n",
    "def sigmoid_cross_entropy_with_logits_derv(z, x):\r\n",
    "    return -z + sigmoid(x)"
   ],
   "outputs": [],
   "metadata": {}
  },
  {
   "cell_type": "code",
   "execution_count": 4,
   "source": [
    "def tanh(x):\r\n",
    "    return 2 * sigmoid(2 * x) - 1\r\n",
    "\r\n",
    "def tanh_derv(y):\r\n",
    "    return (1.0 + y) * (1.0 - y)"
   ],
   "outputs": [],
   "metadata": {}
  },
  {
   "cell_type": "code",
   "execution_count": null,
   "source": [
    "def softmax(x):\r\n",
    "    max_elem = np.max(x, axis=1)\r\n",
    "    diff = (x.transpose() - max_elem).transpose()\r\n",
    "    exp = np.exp(diff)\r\n",
    "    sum_exp = np.sum(exp, axis=1)\r\n",
    "    probs = (exp.transpose() / sum_exp).transpose()\r\n",
    "    return probs\r\n",
    "\r\n",
    "def softmax_cross_entropy_with_logits(labels, logits):\r\n",
    "    probs = softmax(logits)\r\n",
    "    return -np.sum(labels * np.log(probs + 1.0e-10), axis=1)\r\n",
    "\r\n",
    "def softmax_cross_entropy_with_logits_derv(labels, logits):\r\n",
    "    return softmax(logits) - labels"
   ],
   "outputs": [],
   "metadata": {}
  },
  {
   "cell_type": "code",
   "execution_count": null,
   "source": [
    "def load_csv(path, skip_header=True):\r\n",
    "    with open(path) as csvfile:\r\n",
    "        csvreader = csv.reader(csvfile)\r\n",
    "        headers = None\r\n",
    "        if skip_header: headers = next(csvreader, None)\r\n",
    "        rows = []\r\n",
    "        for row in csvreader:\r\n",
    "            rows.append(row)\r\n",
    "\r\n",
    "    return rows, headers"
   ],
   "outputs": [],
   "metadata": {}
  },
  {
   "cell_type": "code",
   "execution_count": null,
   "source": [
    "def onehot(xs, cnt):\r\n",
    "    return np.eye(cnt)[np.array(xs).astype(int)]\r\n",
    "\r\n",
    "def vector_to_str(x, fmt='%.2f', max_cnt=0):\r\n",
    "    if max_cnt == 0 or len(x) <= max_cnt:\r\n",
    "        return '[' + ','.join([fmt]*len(x)) % tuple(x) + ']'\r\n",
    "    v = x[0:max_cnt]\r\n",
    "    return '[' + ','.join([fmt]*len(v)) % tuple(v) + ',...]'"
   ],
   "outputs": [],
   "metadata": {}
  },
  {
   "cell_type": "code",
   "execution_count": null,
   "source": [
    "def load_image_pixels(imagepath, resolution, input_shape):\r\n",
    "    img = Image.open(imagepath)\r\n",
    "    resized = img.resize(resolution)\r\n",
    "    return np.array(resized).reshape(input_shape)\r\n",
    "\r\n",
    "def draw_images_horz(xs, image_shape=None):\r\n",
    "    show_cnt = len(xs)\r\n",
    "    fig, axes = plt.subplot(1, show_cnt, figsize=(5, 5))\r\n",
    "    for n in range(show_cnt):\r\n",
    "        img = xs[n]\r\n",
    "        if image_shape:\r\n",
    "            x3d = img.reshape(image_shape)\r\n",
    "            img = Image.fromarray(np.uint8(x3d))\r\n",
    "        axes[n].imshow(img)\r\n",
    "        axes[n].axis('off')\r\n",
    "    plt.draw()\r\n",
    "    plt.show()"
   ],
   "outputs": [],
   "metadata": {}
  },
  {
   "cell_type": "code",
   "execution_count": null,
   "source": [
    "def show_select_results(est, ans, target_names, max_cnt=0):\r\n",
    "    for n in range(len(est)):\r\n",
    "        pstr = vector_to_str(100*est[n], '%2.0f', max_cnt)\r\n",
    "        estr = target_names[np.argmax(est[n])]\r\n",
    "        astr = target_names[np.argmax(ans[n])]\r\n",
    "        rstr = 'O'\r\n",
    "        if estr != astr: rstr = 'X'\r\n",
    "        print('추정확률 분포 {} => 추정 {} : 정답 {} => {}'.\\\r\n",
    "            format(pstr, estr, astr, rstr))"
   ],
   "outputs": [],
   "metadata": {}
  },
  {
   "cell_type": "code",
   "execution_count": null,
   "source": [
    "def list_dir(path):\r\n",
    "    filenames = os.listdir(path)\r\n",
    "    filenames.sort()\r\n",
    "    return filenames"
   ],
   "outputs": [],
   "metadata": {}
  }
 ],
 "metadata": {
  "orig_nbformat": 4,
  "language_info": {
   "name": "python"
  }
 },
 "nbformat": 4,
 "nbformat_minor": 2
}