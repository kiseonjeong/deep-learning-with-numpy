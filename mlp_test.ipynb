{
 "metadata": {
  "language_info": {
   "codemirror_mode": {
    "name": "ipython",
    "version": 3
   },
   "file_extension": ".py",
   "mimetype": "text/x-python",
   "name": "python",
   "nbconvert_exporter": "python",
   "pygments_lexer": "ipython3",
   "version": "3.7.4-final"
  },
  "orig_nbformat": 2,
  "kernelspec": {
   "name": "Python 3.7.4 64-bit ('Python': virtualenv)",
   "display_name": "Python 3.7.4 64-bit ('Python': virtualenv)",
   "metadata": {
    "interpreter": {
     "hash": "c4e1a2703ad1e771c82b84a8f88a753fb706f41d94fcd9ee3348ba5d0f45dba1"
    }
   }
  }
 },
 "nbformat": 4,
 "nbformat_minor": 2,
 "cells": [
  {
   "cell_type": "code",
   "execution_count": 16,
   "metadata": {},
   "outputs": [],
   "source": [
    "%run abalone.ipynb\n",
    "%run mlp.ipynb"
   ]
  },
  {
   "cell_type": "code",
   "execution_count": 17,
   "metadata": {},
   "outputs": [
    {
     "output_type": "stream",
     "name": "stdout",
     "text": [
      "은닉 계측 0개를 갖는 다층 퍼셉트론이 작동되었습니다.\n",
      "Epoch 1: loss=22.224, accuracy=0.658/0.781\n",
      "Epoch 2: loss=9.283, accuracy=0.787/0.784\n",
      "Epoch 3: loss=8.953, accuracy=0.792/0.789\n",
      "Epoch 4: loss=8.675, accuracy=0.796/0.793\n",
      "Epoch 5: loss=8.449, accuracy=0.799/0.796\n",
      "Epoch 6: loss=8.262, accuracy=0.801/0.799\n",
      "Epoch 7: loss=8.102, accuracy=0.802/0.801\n",
      "Epoch 8: loss=7.962, accuracy=0.804/0.802\n",
      "Epoch 9: loss=7.839, accuracy=0.805/0.804\n",
      "Epoch 10: loss=7.728, accuracy=0.806/0.805\n",
      "\n",
      "Final Test: final accuracy = 0.805\n"
     ]
    }
   ],
   "source": [
    "set_hidden([])\n",
    "abalone_exec()"
   ]
  },
  {
   "cell_type": "code",
   "execution_count": 18,
   "metadata": {
    "tags": []
   },
   "outputs": [
    {
     "output_type": "stream",
     "name": "stdout",
     "text": [
      "은닉 계층 하나를 갖는 다층 퍼셉트론이 작동되었습니다.\n",
      "Epoch 10: loss=6.818, accuracy=0.806/0.813\n",
      "Epoch 20: loss=6.252, accuracy=0.815/0.822\n",
      "Epoch 30: loss=5.512, accuracy=0.828/0.833\n",
      "Epoch 40: loss=5.034, accuracy=0.837/0.840\n",
      "Epoch 50: loss=4.899, accuracy=0.839/0.841\n",
      "\n",
      "Final Test: final accuracy = 0.841\n"
     ]
    }
   ],
   "source": [
    "set_hidden(4)\n",
    "abalone_exec(epoch_count=50, report=10)"
   ]
  },
  {
   "cell_type": "code",
   "execution_count": 19,
   "metadata": {},
   "outputs": [
    {
     "output_type": "stream",
     "name": "stdout",
     "text": [
      "은닉 계층 하나를 갖는 다층 퍼셉트론이 작동되었습니다.\n",
      "Epoch 10: loss=6.752, accuracy=0.808/0.810\n",
      "Epoch 20: loss=6.216, accuracy=0.817/0.818\n",
      "Epoch 30: loss=5.511, accuracy=0.829/0.829\n",
      "Epoch 40: loss=5.037, accuracy=0.838/0.836\n",
      "Epoch 50: loss=4.895, accuracy=0.840/0.838\n",
      "\n",
      "Final Test: final accuracy = 0.838\n"
     ]
    }
   ],
   "source": [
    "abalone_exec(epoch_count=50, report=10)"
   ]
  },
  {
   "cell_type": "code",
   "execution_count": 20,
   "metadata": {},
   "outputs": [],
   "source": [
    "%run pulsar.ipynb\n",
    "%run mlp.ipynb"
   ]
  },
  {
   "cell_type": "code",
   "execution_count": 21,
   "metadata": {},
   "outputs": [
    {
     "output_type": "stream",
     "name": "stdout",
     "text": [
      "은닉 계층 하나를 갖는 다층 퍼셉트론이 작동되었습니다.\n",
      "Epoch 10: loss=0.090, accuracy=0.973/0.974\n",
      "Epoch 20: loss=0.087, accuracy=0.974/0.975\n",
      "Epoch 30: loss=0.085, accuracy=0.976/0.975\n",
      "Epoch 40: loss=0.085, accuracy=0.976/0.975\n",
      "Epoch 50: loss=0.084, accuracy=0.976/0.975\n",
      "\n",
      "Final Test: final accuracy = 0.975\n"
     ]
    }
   ],
   "source": [
    "set_hidden(6)\n",
    "pulsar_exec(epoch_count=50, report=10)"
   ]
  },
  {
   "cell_type": "code",
   "execution_count": 22,
   "metadata": {},
   "outputs": [
    {
     "output_type": "stream",
     "name": "stdout",
     "text": [
      "은닉 계측 1개를 갖는 다층 퍼셉트론이 작동되었습니다.\n",
      "Epoch 10: loss=0.087, accuracy=0.974/0.970\n",
      "Epoch 20: loss=0.083, accuracy=0.975/0.970\n",
      "Epoch 30: loss=0.082, accuracy=0.976/0.972\n",
      "Epoch 40: loss=0.081, accuracy=0.976/0.973\n",
      "Epoch 50: loss=0.081, accuracy=0.976/0.973\n",
      "\n",
      "Final Test: final accuracy = 0.973\n"
     ]
    }
   ],
   "source": [
    "set_hidden([6])\n",
    "pulsar_exec(epoch_count=50, report=10)"
   ]
  },
  {
   "cell_type": "code",
   "execution_count": null,
   "metadata": {},
   "outputs": [],
   "source": [
    "set_hidden([12, 6])\n",
    "pulsar_exec(epoch_count=200, report=40)"
   ]
  },
  {
   "cell_type": "code",
   "execution_count": null,
   "metadata": {},
   "outputs": [],
   "source": [
    "%run steel.ipynb\n",
    "%run mlp.ipynb"
   ]
  },
  {
   "cell_type": "code",
   "execution_count": null,
   "metadata": {},
   "outputs": [],
   "source": [
    "set_hidden(10)\n",
    "steel_exec(epoch_count=50, report=10)"
   ]
  },
  {
   "cell_type": "code",
   "execution_count": null,
   "metadata": {},
   "outputs": [],
   "source": [
    "set_hidden([12, 6, 4])\n",
    "steel_exec(epoch_count=50, report=10)"
   ]
  },
  {
   "cell_type": "code",
   "execution_count": null,
   "metadata": {},
   "outputs": [],
   "source": [
    "LEARNING_RATE = 0.0001\n",
    "hidden_config = [12, 6, 4]\n",
    "steel_exec(epoch_count=50, report=10)"
   ]
  }
 ]
}