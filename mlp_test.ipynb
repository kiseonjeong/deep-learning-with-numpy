{
 "cells": [
  {
   "cell_type": "code",
   "execution_count": 1,
   "source": [
    "%run abalone.ipynb\r\n",
    "%run mlp.ipynb\r\n",
    "set_hidden([])\r\n",
    "abalone_exec()"
   ],
   "outputs": [
    {
     "output_type": "stream",
     "name": "stdout",
     "text": [
      "은닉 계층 0개를 갖는 다층 퍼셉트론이 작동되었습니다.\n",
      "Epoch 1: loss=33.875, accuracy=0.557/0.812\n",
      "Epoch 2: loss=8.226, accuracy=0.820/0.814\n",
      "Epoch 3: loss=7.582, accuracy=0.812/0.809\n",
      "Epoch 4: loss=7.475, accuracy=0.808/0.811\n",
      "Epoch 5: loss=7.395, accuracy=0.810/0.809\n",
      "Epoch 6: loss=7.328, accuracy=0.808/0.810\n",
      "Epoch 7: loss=7.269, accuracy=0.808/0.811\n",
      "Epoch 8: loss=7.217, accuracy=0.808/0.812\n",
      "Epoch 9: loss=7.175, accuracy=0.810/0.810\n",
      "Epoch 10: loss=7.135, accuracy=0.809/0.810\n",
      "\n",
      "Final Test: final accuracy = 0.810\n"
     ]
    }
   ],
   "metadata": {}
  },
  {
   "cell_type": "code",
   "execution_count": 2,
   "source": [
    "set_hidden(4)\r\n",
    "abalone_exec(epoch_count=50, report=10)"
   ],
   "outputs": [
    {
     "output_type": "stream",
     "name": "stdout",
     "text": [
      "은닉 계층 하나를 갖는 다층 퍼셉트론이 작동되었습니다.\n",
      "Epoch 10: loss=6.849, accuracy=0.806/0.803\n",
      "Epoch 20: loss=6.294, accuracy=0.815/0.812\n",
      "Epoch 30: loss=5.572, accuracy=0.827/0.840\n",
      "Epoch 40: loss=5.105, accuracy=0.835/0.842\n",
      "Epoch 50: loss=4.955, accuracy=0.838/0.837\n",
      "\n",
      "Final Test: final accuracy = 0.837\n"
     ]
    }
   ],
   "metadata": {}
  },
  {
   "cell_type": "code",
   "execution_count": 3,
   "source": [
    "abalone_exec(epoch_count=50, report=10)"
   ],
   "outputs": [
    {
     "output_type": "stream",
     "name": "stdout",
     "text": [
      "은닉 계층 하나를 갖는 다층 퍼셉트론이 작동되었습니다.\n",
      "Epoch 10: loss=6.757, accuracy=0.808/0.813\n",
      "Epoch 20: loss=6.255, accuracy=0.817/0.817\n",
      "Epoch 30: loss=5.554, accuracy=0.829/0.819\n",
      "Epoch 40: loss=5.093, accuracy=0.837/0.845\n",
      "Epoch 50: loss=4.948, accuracy=0.840/0.827\n",
      "\n",
      "Final Test: final accuracy = 0.827\n"
     ]
    }
   ],
   "metadata": {}
  },
  {
   "cell_type": "code",
   "execution_count": 5,
   "source": [
    "%run pulsar.ipynb\r\n",
    "%run mlp.ipynb\r\n",
    "set_hidden(6)\r\n",
    "pulsar_exec(epoch_count=50, report=10)"
   ],
   "outputs": [
    {
     "output_type": "stream",
     "name": "stdout",
     "text": [
      "은닉 계층 하나를 갖는 다층 퍼셉트론이 작동되었습니다.\n",
      "Epoch 10: loss=0.094, accuracy=0.972/0.972\n",
      "Epoch 20: loss=0.091, accuracy=0.973/0.974\n",
      "Epoch 30: loss=0.091, accuracy=0.973/0.974\n",
      "Epoch 40: loss=0.089, accuracy=0.974/0.974\n",
      "Epoch 50: loss=0.089, accuracy=0.974/0.975\n",
      "\n",
      "Final Test: final accuracy = 0.975\n"
     ]
    }
   ],
   "metadata": {}
  },
  {
   "cell_type": "code",
   "execution_count": 6,
   "source": [
    "set_hidden([6])\r\n",
    "pulsar_exec(epoch_count=50, report=10)"
   ],
   "outputs": [
    {
     "output_type": "stream",
     "name": "stdout",
     "text": [
      "은닉 계층 1개를 갖는 다층 퍼셉트론이 작동되었습니다.\n",
      "Epoch 10: loss=0.090, accuracy=0.973/0.969\n",
      "Epoch 20: loss=0.087, accuracy=0.974/0.969\n",
      "Epoch 30: loss=0.085, accuracy=0.975/0.973\n",
      "Epoch 40: loss=0.083, accuracy=0.976/0.972\n",
      "Epoch 50: loss=0.083, accuracy=0.976/0.972\n",
      "\n",
      "Final Test: final accuracy = 0.972\n"
     ]
    }
   ],
   "metadata": {}
  },
  {
   "cell_type": "code",
   "execution_count": 7,
   "source": [
    "set_hidden([12, 6])\r\n",
    "pulsar_exec(epoch_count=200, report=40)"
   ],
   "outputs": [
    {
     "output_type": "stream",
     "name": "stdout",
     "text": [
      "은닉 계층 2개를 갖는 다층 퍼셉트론이 작동되었습니다.\n",
      "Epoch 40: loss=0.090, accuracy=0.973/0.972\n",
      "Epoch 80: loss=0.086, accuracy=0.975/0.974\n",
      "Epoch 120: loss=0.084, accuracy=0.976/0.971\n",
      "Epoch 160: loss=0.081, accuracy=0.976/0.972\n",
      "Epoch 200: loss=0.081, accuracy=0.976/0.973\n",
      "\n",
      "Final Test: final accuracy = 0.973\n"
     ]
    }
   ],
   "metadata": {}
  },
  {
   "cell_type": "code",
   "execution_count": 8,
   "source": [
    "%run steel.ipynb\r\n",
    "%run mlp.ipynb\r\n",
    "set_hidden(10)\r\n",
    "steel_exec(epoch_count=50, report=10)"
   ],
   "outputs": [
    {
     "output_type": "stream",
     "name": "stdout",
     "text": [
      "은닉 계층 하나를 갖는 다층 퍼셉트론이 작동되었습니다.\n",
      "Epoch 10: loss=1.849, accuracy=0.352/0.325\n",
      "Epoch 20: loss=1.786, accuracy=0.352/0.325\n",
      "Epoch 30: loss=1.747, accuracy=0.352/0.325\n",
      "Epoch 40: loss=1.723, accuracy=0.352/0.325\n",
      "Epoch 50: loss=1.708, accuracy=0.352/0.325\n",
      "\n",
      "Final Test: final accuracy = 0.325\n"
     ]
    }
   ],
   "metadata": {}
  },
  {
   "cell_type": "code",
   "execution_count": 9,
   "source": [
    "set_hidden([12, 6, 4])\r\n",
    "steel_exec(epoch_count=50, report=10)"
   ],
   "outputs": [
    {
     "output_type": "stream",
     "name": "stdout",
     "text": [
      "은닉 계층 3개를 갖는 다층 퍼셉트론이 작동되었습니다.\n",
      "Epoch 10: loss=1.855, accuracy=0.346/0.350\n",
      "Epoch 20: loss=1.795, accuracy=0.346/0.350\n",
      "Epoch 30: loss=1.758, accuracy=0.346/0.350\n",
      "Epoch 40: loss=1.735, accuracy=0.346/0.350\n",
      "Epoch 50: loss=1.721, accuracy=0.346/0.350\n",
      "\n",
      "Final Test: final accuracy = 0.350\n"
     ]
    }
   ],
   "metadata": {}
  },
  {
   "cell_type": "code",
   "execution_count": 10,
   "source": [
    "LEARNING_RATE = 0.0001\r\n",
    "hidden_config = [12, 6, 4]\r\n",
    "steel_exec(epoch_count=50, report=10)"
   ],
   "outputs": [
    {
     "output_type": "stream",
     "name": "stdout",
     "text": [
      "은닉 계층 3개를 갖는 다층 퍼셉트론이 작동되었습니다.\n",
      "Epoch 10: loss=1.738, accuracy=0.257/0.182\n",
      "Epoch 20: loss=1.618, accuracy=0.315/0.468\n",
      "Epoch 30: loss=1.604, accuracy=0.390/0.389\n",
      "Epoch 40: loss=1.594, accuracy=0.422/0.471\n",
      "Epoch 50: loss=1.584, accuracy=0.444/0.471\n",
      "\n",
      "Final Test: final accuracy = 0.471\n"
     ]
    }
   ],
   "metadata": {}
  }
 ],
 "metadata": {
  "interpreter": {
   "hash": "101ba9b0878a37f24d322c2ef0e0a38d9299b41eadd5803319bb00780a61a59d"
  },
  "kernelspec": {
   "display_name": "Python 3.6.10 64-bit ('cv': conda)",
   "name": "python3"
  },
  "language_info": {
   "codemirror_mode": {
    "name": "ipython",
    "version": 3
   },
   "file_extension": ".py",
   "mimetype": "text/x-python",
   "name": "python",
   "nbconvert_exporter": "python",
   "pygments_lexer": "ipython3",
   "version": "3.6.10"
  },
  "orig_nbformat": 4
 },
 "nbformat": 4,
 "nbformat_minor": 2
}