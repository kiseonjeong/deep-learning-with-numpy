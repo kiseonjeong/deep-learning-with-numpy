{
 "cells": [
  {
   "cell_type": "code",
   "execution_count": 1,
   "source": [
    "def init_model_hidden1():\r\n",
    "    global pm_output, pm_hidden, input_cnt, output_cnt, hidden_cnt\r\n",
    "\r\n",
    "    pm_hidden = alloc_param_pair([input_cnt, hidden_cnt])\r\n",
    "    pm_output = alloc_param_pair([hidden_cnt, output_cnt])\r\n",
    "\r\n",
    "def alloc_param_pair(shape):\r\n",
    "    weight = np.random.normal(RND_MEAN, RND_STD, shape)\r\n",
    "    bias = np.zeros(shape[-1])\r\n",
    "    return {'w': weight, 'b': bias}"
   ],
   "outputs": [],
   "metadata": {}
  },
  {
   "cell_type": "code",
   "execution_count": 2,
   "source": [
    "def forward_neuralnet_hidden1(x):\r\n",
    "    global pm_output, pm_hidden\r\n",
    "\r\n",
    "    hidden = relu(np.matmul(x, pm_hidden['w']) + pm_hidden['b'])\r\n",
    "    output = np.matmul(hidden, pm_output['w']) + pm_output['b']\r\n",
    "\r\n",
    "    return output, [x, hidden]\r\n",
    "\r\n",
    "def relu(x):\r\n",
    "    return np.maximum(x, 0)"
   ],
   "outputs": [],
   "metadata": {}
  },
  {
   "cell_type": "code",
   "execution_count": 4,
   "source": [
    "def backprop_neuralnet_hidden1(G_output, aux):\r\n",
    "    global pm_output, pm_hidden\r\n",
    "\r\n",
    "    x, hidden = aux\r\n",
    "\r\n",
    "    g_output_w_out = hidden.transpose()\r\n",
    "    G_w_out = np.matmul(g_output_w_out, G_output)\r\n",
    "    G_b_out = np.sum(G_output, axis=0)\r\n",
    "\r\n",
    "    g_output_hidden = pm_output['w'].transpose()\r\n",
    "    G_hidden = np.matmul(G_output, g_output_hidden)\r\n",
    "\r\n",
    "    pm_output['w'] -= LEARNING_RATE * G_w_out\r\n",
    "    pm_output['b'] -= LEARNING_RATE * G_b_out\r\n",
    "\r\n",
    "    G_hidden = G_hidden * relu_derv(hidden)\r\n",
    "\r\n",
    "    g_hidden_w_hid = x.transpose()\r\n",
    "    G_w_hid = np.matmul(g_hidden_w_hid, G_hidden)\r\n",
    "    G_b_hid = np.sum(G_hidden, axis=0)\r\n",
    "\r\n",
    "    pm_hidden['w'] -= LEARNING_RATE * G_w_hid\r\n",
    "    pm_hidden['b'] -= LEARNING_RATE * G_b_hid\r\n",
    "\r\n",
    "def relu_derv(y):\r\n",
    "    return np.sign(y)"
   ],
   "outputs": [],
   "metadata": {}
  },
  {
   "cell_type": "code",
   "execution_count": 5,
   "source": [
    "def init_model_hiddens():\r\n",
    "    global pm_output, pm_hiddens, input_cnt, output_cnt, hidden_config\r\n",
    "\r\n",
    "    pm_hiddens = []\r\n",
    "    prev_cnt = input_cnt\r\n",
    "\r\n",
    "    for hidden_cnt in hidden_config:\r\n",
    "        pm_hiddens.append(alloc_param_pair([prev_cnt, hidden_cnt]))\r\n",
    "        prev_cnt = hidden_cnt\r\n",
    "\r\n",
    "    pm_output = alloc_param_pair([prev_cnt, output_cnt])"
   ],
   "outputs": [],
   "metadata": {}
  },
  {
   "cell_type": "code",
   "execution_count": 6,
   "source": [
    "def forward_neuralnet_hiddens(x):\r\n",
    "    global pm_output, pm_hiddens\r\n",
    "\r\n",
    "    hidden = x\r\n",
    "    hiddens = [x]\r\n",
    "\r\n",
    "    for pm_hidden in pm_hiddens:\r\n",
    "        hidden = relu(np.matmul(hidden, pm_hidden['w']) + pm_hidden['b'])\r\n",
    "        hiddens.append(hidden)\r\n",
    "\r\n",
    "    output = np.matmul(hidden, pm_output['w']) + pm_output['b']\r\n",
    "\r\n",
    "    return output, hiddens"
   ],
   "outputs": [],
   "metadata": {}
  },
  {
   "cell_type": "code",
   "execution_count": 7,
   "source": [
    "def backprop_neuralnet_hiddens(G_output, aux):\r\n",
    "    global pm_output, pm_hiddens\r\n",
    "\r\n",
    "    hiddens = aux\r\n",
    "\r\n",
    "    g_output_w_out = hiddens[-1].transpose()\r\n",
    "    G_w_out = np.matmul(g_output_w_out, G_output)\r\n",
    "    G_b_out = np.sum(G_output, axis=0)\r\n",
    "\r\n",
    "    g_output_hidden = pm_output['w'].transpose()\r\n",
    "    G_hidden = np.matmul(G_output, g_output_hidden)\r\n",
    "\r\n",
    "    pm_output['w'] -= LEARNING_RATE * G_w_out\r\n",
    "    pm_output['b'] -= LEARNING_RATE * G_b_out\r\n",
    "\r\n",
    "    for n in reversed(range(len(pm_hiddens))):\r\n",
    "        G_hidden = G_hidden * relu_derv(hiddens[n+1])\r\n",
    "\r\n",
    "        g_hidden_w_hid = hiddens[n].transpose()\r\n",
    "        G_w_hid = np.matmul(g_hidden_w_hid, G_hidden)\r\n",
    "        G_b_hid = np.sum(G_hidden, axis=0)\r\n",
    "\r\n",
    "        g_hidden_hidden = pm_hiddens[n]['w'].transpose()\r\n",
    "        G_hidden = np.matmul(G_hidden, g_hidden_hidden)\r\n",
    "\r\n",
    "        pm_hiddens[n]['w'] -= LEARNING_RATE * G_w_hid\r\n",
    "        pm_hiddens[n]['b'] -= LEARNING_RATE * G_b_hid"
   ],
   "outputs": [],
   "metadata": {}
  },
  {
   "cell_type": "code",
   "execution_count": 8,
   "source": [
    "global hidden_config\r\n",
    "\r\n",
    "def init_model():\r\n",
    "    if hidden_config is not None:\r\n",
    "        print('은닉 계층 {}개를 갖는 다층 퍼셉트론이 작동되었습니다.'.\\\r\n",
    "            format(len(hidden_config)))\r\n",
    "        init_model_hiddens()\r\n",
    "    else:\r\n",
    "        print('은닉 계층 하나를 갖는 다층 퍼셉트론이 작동되었습니다.')\r\n",
    "        init_model_hidden1()\r\n",
    "\r\n",
    "def forward_neuralnet(x):\r\n",
    "    if hidden_config is not None:\r\n",
    "        return forward_neuralnet_hiddens(x)\r\n",
    "    else:\r\n",
    "        return forward_neuralnet_hidden1(x)\r\n",
    "\r\n",
    "def backprop_neuralnet(G_output, hiddens):\r\n",
    "    if hidden_config is not None:\r\n",
    "        backprop_neuralnet_hiddens(G_output, hiddens)\r\n",
    "    else:\r\n",
    "        backprop_neuralnet_hidden1(G_output, hiddens)"
   ],
   "outputs": [],
   "metadata": {}
  },
  {
   "cell_type": "code",
   "execution_count": 9,
   "source": [
    "def set_hidden(info):\r\n",
    "    global hidden_cnt, hidden_config\r\n",
    "    if isinstance(info, int):\r\n",
    "        hidden_cnt = info\r\n",
    "        hidden_config = None\r\n",
    "    else:\r\n",
    "        hidden_config = info"
   ],
   "outputs": [],
   "metadata": {}
  }
 ],
 "metadata": {
  "interpreter": {
   "hash": "101ba9b0878a37f24d322c2ef0e0a38d9299b41eadd5803319bb00780a61a59d"
  },
  "kernelspec": {
   "display_name": "Python 3.6.10 64-bit ('cv': conda)",
   "name": "python3"
  },
  "language_info": {
   "codemirror_mode": {
    "name": "ipython",
    "version": 3
   },
   "file_extension": ".py",
   "mimetype": "text/x-python",
   "name": "python",
   "nbconvert_exporter": "python",
   "pygments_lexer": "ipython3",
   "version": "3.6.10"
  },
  "orig_nbformat": 4
 },
 "nbformat": 4,
 "nbformat_minor": 2
}