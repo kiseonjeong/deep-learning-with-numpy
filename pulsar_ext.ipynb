{
 "cells": [
  {
   "cell_type": "code",
   "execution_count": 1,
   "metadata": {},
   "outputs": [],
   "source": [
    "%run pulsar.ipynb"
   ]
  },
  {
   "cell_type": "code",
   "execution_count": null,
   "metadata": {},
   "outputs": [],
   "source": [
    "def pulsar_exec(epoch_count=10, mb_size=10, report=1, adjust_ratio=False):\r\n",
    "    load_pulsar_dataset(adjust_ratio)\r\n",
    "    init_model()\r\n",
    "    train_and_test(epoch_count, mb_size, report)"
   ]
  },
  {
   "cell_type": "code",
   "execution_count": 2,
   "metadata": {},
   "outputs": [],
   "source": [
    "def load_pulsar_dataset(adjust_ratio):\r\n",
    "    pulsars, stars = [], []\r\n",
    "    with open(\"data/pulsar_stars.csv\") as csvfile:\r\n",
    "        csvreader = csv.reader(csvfile)\r\n",
    "        next(csvreader, None)\r\n",
    "        rows = []\r\n",
    "        for row in csvreader:\r\n",
    "            if row[8] == '1': pulsars.append(row)\r\n",
    "            else: stars.append(row)\r\n",
    "\r\n",
    "    global data, input_cnt, output_cnt\r\n",
    "    input_cnt, output_cnt = 8, 1\r\n",
    "    \r\n",
    "    star_cnt, pulsar_cnt = len(stars), len(pulsars)\r\n",
    "\r\n",
    "    if adjust_ratio:\r\n",
    "        data = np.zeros([2*star_cnt, 9])\r\n",
    "        data[0:star_cnt, :] = np.asarray(stars, dtype='float32')\r\n",
    "        for n in range(star_cnt):\r\n",
    "            data[star_cnt+n] = np.asarray(pulsars[n % pulsar_cnt], dtype='float32')\r\n",
    "    else:\r\n",
    "        data = np.zeros([star_cnt+pulsar_cnt, 9])\r\n",
    "        data[0:star_cnt, :] = np.asarray(stars, dtype='float32')\r\n",
    "        data[star_cnt:, :] = np.asarray(pulsars, dtype='float32')"
   ]
  },
  {
   "cell_type": "code",
   "execution_count": 3,
   "metadata": {},
   "outputs": [],
   "source": [
    "def eval_accuracy(output, y):\r\n",
    "    est_yes = np.greater(output, 0)\r\n",
    "    ans_yes = np.greater(y, 0.5)\r\n",
    "    est_no = np.logical_not(est_yes)\r\n",
    "    ans_no = np.logical_not(ans_yes)\r\n",
    "\r\n",
    "    tp = np.sum(np.logical_and(est_yes, ans_yes))\r\n",
    "    fp = np.sum(np.logical_and(est_yes, ans_no))\r\n",
    "    fn = np.sum(np.logical_and(est_no, ans_yes))\r\n",
    "    tn = np.sum(np.logical_and(est_no, ans_no))\r\n",
    "\r\n",
    "    accuracy = safe_div(tp+tn, tp+tn+fp+fn)\r\n",
    "    precision = safe_div(tp, tp+fp)\r\n",
    "    recall = safe_div(tp, tp+fn)\r\n",
    "    f1 = 2 * safe_div(recall*precision, recall+precision)\r\n",
    "\r\n",
    "    return [accuracy, precision, recall, f1]\r\n",
    "\r\n",
    "def safe_div(p, q):\r\n",
    "    p, q = float(p), float(q)\r\n",
    "    if np.abs(q) < 1.0e-20: return np.sign(p)\r\n",
    "    return p / q"
   ]
  },
  {
   "cell_type": "code",
   "execution_count": null,
   "metadata": {},
   "outputs": [],
   "source": [
    "def train_and_test(epoch_count, mb_size, report):\r\n",
    "    step_count = arrange_data(mb_size)\r\n",
    "    test_x, test_y = get_test_data()\r\n",
    "\r\n",
    "    for epoch in range(epoch_count):\r\n",
    "        losses = []\r\n",
    "\r\n",
    "        for n in range(step_count):\r\n",
    "            train_x, train_y = get_train_data(mb_size, n)\r\n",
    "            loss, acc = run_train(train_x, train_y)\r\n",
    "            losses.append(loss)\r\n",
    "\r\n",
    "        if report > 0 and (epoch + 1) % report == 0:\r\n",
    "            acc = run_test(test_x, test_y)\r\n",
    "            acc_str = ','.join(['%5.3f']*4) % tuple(acc)\r\n",
    "            print('Epoch {}: loss={:5.3f}, result={}'.\\\r\n",
    "                format(epoch + 1, np.mean(losses), acc_str))\r\n",
    "\r\n",
    "    acc = run_test(test_x, test_y)\r\n",
    "    acc_str = ','.join(['%5.3f']*4) % tuple(acc)\r\n",
    "    print('\\nFinal Test: final accuracy = {}'.format(acc_str))"
   ]
  }
 ],
 "metadata": {
  "interpreter": {
   "hash": "101ba9b0878a37f24d322c2ef0e0a38d9299b41eadd5803319bb00780a61a59d"
  },
  "kernelspec": {
   "display_name": "Python 3.6.10 64-bit ('cv': conda)",
   "name": "python3"
  },
  "language_info": {
   "codemirror_mode": {
    "name": "ipython",
    "version": 3
   },
   "file_extension": ".py",
   "mimetype": "text/x-python",
   "name": "python",
   "nbconvert_exporter": "python",
   "pygments_lexer": "ipython3",
   "version": "3.6.10"
  },
  "orig_nbformat": 4
 },
 "nbformat": 4,
 "nbformat_minor": 2
}