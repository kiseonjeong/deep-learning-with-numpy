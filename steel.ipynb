{
 "cells": [
  {
   "cell_type": "code",
   "execution_count": 1,
   "metadata": {},
   "outputs": [],
   "source": [
    "%run abalone.ipynb"
   ]
  },
  {
   "cell_type": "code",
   "execution_count": 2,
   "metadata": {},
   "outputs": [],
   "source": [
    "def steel_exec(epoch_count=10, mb_size=10, report=1):\r\n",
    "    load_steel_dataset()\r\n",
    "    init_model()\r\n",
    "    train_and_test(epoch_count, mb_size, report)"
   ]
  },
  {
   "cell_type": "code",
   "execution_count": 3,
   "metadata": {},
   "outputs": [],
   "source": [
    "def load_steel_dataset():\r\n",
    "    with open(\"data/faults.csv\") as csvfile:\r\n",
    "        csvreader = csv.reader(csvfile)\r\n",
    "        next(csvreader, None)\r\n",
    "        rows = []\r\n",
    "        for row in csvreader:\r\n",
    "            rows.append(row)\r\n",
    "\r\n",
    "    global data, input_cnt, output_cnt\r\n",
    "    input_cnt, output_cnt = 27, 7\r\n",
    "    data = np.asarray(rows, dtype='float32')"
   ]
  },
  {
   "cell_type": "code",
   "execution_count": 4,
   "metadata": {},
   "outputs": [],
   "source": [
    "def forward_postproc(output, y):\r\n",
    "    entropy = softmax_cross_entropy_with_logits(y, output)\r\n",
    "    loss = np.mean(entropy)\r\n",
    "    return loss, [y, output, entropy]\r\n",
    "\r\n",
    "def backprop_postproc(G_loss, aux):\r\n",
    "    y, output, entropy = aux\r\n",
    "\r\n",
    "    g_loss_entropy = 1.0 / np.prod(entropy.shape)\r\n",
    "    g_entropy_output = softmax_cross_entropy_with_logits_derv(y, output)\r\n",
    "\r\n",
    "    G_entropy = g_loss_entropy * G_loss\r\n",
    "    G_output = g_entropy_output * G_entropy\r\n",
    "\r\n",
    "    return G_output"
   ]
  },
  {
   "cell_type": "code",
   "execution_count": 5,
   "metadata": {},
   "outputs": [],
   "source": [
    "def eval_accuracy(output, y):\r\n",
    "    estimate = np.argmax(output, axis=1)\r\n",
    "    answer = np.argmax(y, axis=1)\r\n",
    "    correct = np.equal(estimate, answer)\r\n",
    "\r\n",
    "    return np.mean(correct)"
   ]
  },
  {
   "cell_type": "code",
   "execution_count": null,
   "metadata": {},
   "outputs": [],
   "source": [
    "def softmax(x):\r\n",
    "    max_elem = np.max(x, axis=1)\r\n",
    "    diff = (x.transpose() - max_elem).transpose()\r\n",
    "    exp = np.exp(diff)\r\n",
    "    sum_exp = np.sum(exp, axis=1)\r\n",
    "    probs = (exp.transpose() / sum_exp).transpose()\r\n",
    "    return probs\r\n",
    "\r\n",
    "def softmax_derv(x, y):\r\n",
    "    mb_size, nom_size = x.shape\r\n",
    "    derv = np.ndarray([mb_size, nom_size, nom_size])\r\n",
    "    for n in range(mb_size):\r\n",
    "        for i in range(nom_size):\r\n",
    "            for j in range(nom_size):\r\n",
    "                derv[n, i, j] = -y[n, i] * y[n, j]\r\n",
    "            derv[n, i, i] += y[n, i]\r\n",
    "    return derv\r\n",
    "\r\n",
    "def softmax_cross_entropy_with_logits(labels, logits):\r\n",
    "    probs = softmax(logits)\r\n",
    "    return -np.sum(labels * np.log(probs+1.0e-10), axis=1)\r\n",
    "\r\n",
    "def softmax_cross_entropy_with_logits_derv(labels, logits):\r\n",
    "    return softmax(logits) - labels"
   ]
  }
 ],
 "metadata": {
  "language_info": {
   "name": "python",
   "nbconvert_exporter": "python"
  },
  "orig_nbformat": 4
 },
 "nbformat": 4,
 "nbformat_minor": 2
}