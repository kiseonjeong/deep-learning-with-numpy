{
 "cells": [
  {
   "cell_type": "code",
   "execution_count": 1,
   "metadata": {},
   "outputs": [],
   "source": [
    "import numpy as np\r\n",
    "import csv\r\n",
    "import time\r\n",
    "\r\n",
    "np.random.seed(1234)\r\n",
    "def randomize(): np.random.seed(time.time())"
   ]
  },
  {
   "cell_type": "code",
   "execution_count": 2,
   "metadata": {},
   "outputs": [],
   "source": [
    "RND_MEAN = 0\r\n",
    "RND_STD = 0.0030\r\n",
    "\r\n",
    "LEARNING_RATE = 0.001"
   ]
  },
  {
   "cell_type": "code",
   "execution_count": 3,
   "metadata": {},
   "outputs": [],
   "source": [
    "def abalone_exec(epoch_count=10, mb_size=10, report=1):\r\n",
    "    load_abalone_dataset()\r\n",
    "    init_model()\r\n",
    "    train_and_test(epoch_count, mb_size, report)"
   ]
  },
  {
   "cell_type": "code",
   "execution_count": 5,
   "metadata": {},
   "outputs": [],
   "source": [
    "def load_abalone_dataset():\r\n",
    "    with open('data/abalone.csv') as csvfile:\r\n",
    "        csvreader = csv.reader(csvfile)\r\n",
    "        next(csvreader, None)\r\n",
    "        rows = []\r\n",
    "        for row in csvreader:\r\n",
    "            rows.append(row)\r\n",
    "\r\n",
    "    global data, input_cnt, output_cnt\r\n",
    "    input_cnt, output_cnt = 10, 1\r\n",
    "    data = np.zeros([len(rows), input_cnt + output_cnt])\r\n",
    "\r\n",
    "    for n, row in enumerate(rows):\r\n",
    "        if row[0] == 'I': data[n, 0] = 1\r\n",
    "        if row[0] == 'M': data[n, 1] = 1\r\n",
    "        if row[0] == 'F': data[n, 2] = 1\r\n",
    "        data[n, 3:] = row[1:]"
   ]
  },
  {
   "cell_type": "code",
   "execution_count": 8,
   "metadata": {},
   "outputs": [],
   "source": [
    "def init_model():\r\n",
    "    global weight, bias, input_cnt, output_cnt\r\n",
    "    weight = np.random.normal(RND_MEAN, RND_STD, [input_cnt, output_cnt])\r\n",
    "    bias = np.zeros([output_cnt])"
   ]
  },
  {
   "cell_type": "code",
   "execution_count": 9,
   "metadata": {},
   "outputs": [],
   "source": [
    "def train_and_test(epoch_count, mb_size, report):\r\n",
    "    step_count = arrange_data(mb_size)\r\n",
    "    test_x, test_y = get_test_data()\r\n",
    "\r\n",
    "    for epoch in range(epoch_count):\r\n",
    "        losses, accs = [], []\r\n",
    "\r\n",
    "        for n in range(step_count):\r\n",
    "            train_x, train_y = get_train_data(mb_size, n)\r\n",
    "            loss, acc = run_train(train_x, train_y)\r\n",
    "            losses.append(loss)\r\n",
    "            accs.append(acc)\r\n",
    "\r\n",
    "        if report > 0 and (epoch + 1) % report == 0:\r\n",
    "            acc = run_test(test_x, test_y)\r\n",
    "            print('Epoch {}: loss={:5.3f}, accuracy={:5.3f}/{:5.3f}'.\\\r\n",
    "                format(epoch + 1, np.mean(losses), np.mean(accs), acc))\r\n",
    "\r\n",
    "    final_acc = run_test(test_x, test_y)\r\n",
    "    print('\\nFinal Test: final accuracy = {:5.3f}'.format(final_acc))"
   ]
  },
  {
   "cell_type": "code",
   "execution_count": 33,
   "metadata": {},
   "outputs": [],
   "source": [
    "def run_train(x, y):\r\n",
    "    output, aux_nn = forward_neuralnet(x)\r\n",
    "    loss, aux_pp = forward_postproc(output, y)\r\n",
    "    accuracy = eval_accuracy(output, y)\r\n",
    "\r\n",
    "    G_loss = 1.0\r\n",
    "    G_output = backprop_postproc(G_loss, aux_pp)\r\n",
    "    backprop_neuralnet(G_output, aux_nn)\r\n",
    "\r\n",
    "    return loss, accuracy\r\n",
    "\r\n",
    "def run_test(x, y):\r\n",
    "    output, _ = forward_neuralnet(x)\r\n",
    "    accuracy = eval_accuracy(output, y)\r\n",
    "    return accuracy"
   ]
  },
  {
   "cell_type": "code",
   "execution_count": 29,
   "metadata": {},
   "outputs": [],
   "source": [
    "def forward_neuralnet(x):\r\n",
    "    global weight, bias\r\n",
    "    output = np.matmul(x, weight) + bias\r\n",
    "    return output, x\r\n",
    "\r\n",
    "def backprop_neuralnet(G_output, x):\r\n",
    "    global weight, bias\r\n",
    "    g_output_w = x.transpose()\r\n",
    "\r\n",
    "    G_w = np.matmul(g_output_w, G_output)\r\n",
    "    G_b = np.sum(G_output, axis=0)\r\n",
    "\r\n",
    "    weight -= LEARNING_RATE * G_w\r\n",
    "    bias -= LEARNING_RATE * G_b"
   ]
  },
  {
   "cell_type": "code",
   "execution_count": 30,
   "metadata": {},
   "outputs": [],
   "source": [
    "def forward_postproc(output, y):\r\n",
    "    diff = output - y\r\n",
    "    square = np.square(diff)\r\n",
    "    loss = np.mean(square)\r\n",
    "    return loss, diff\r\n",
    "\r\n",
    "def backprop_postproc(G_loss, diff):\r\n",
    "    shape = diff.shape\r\n",
    "\r\n",
    "    g_loss_square = np.ones(shape) / np.prod(shape)\r\n",
    "    g_square_diff = 2 * diff\r\n",
    "    g_diff_output = 1\r\n",
    "\r\n",
    "    G_square = g_loss_square * G_loss\r\n",
    "    G_diff = g_square_diff * G_square\r\n",
    "    G_output = g_diff_output * G_diff\r\n",
    "\r\n",
    "    return G_output"
   ]
  },
  {
   "cell_type": "code",
   "execution_count": 31,
   "metadata": {},
   "outputs": [],
   "source": [
    "def backprop_postproc_oneline(G_loss, diff):\r\n",
    "    return 2 * diff / np.prod(diff.shape)"
   ]
  },
  {
   "cell_type": "code",
   "execution_count": 32,
   "metadata": {},
   "outputs": [],
   "source": [
    "def eval_accuracy(output, y):\r\n",
    "    mdiff = np.mean(np.abs((output - y) / y))\r\n",
    "    return 1 - mdiff"
   ]
  },
  {
   "cell_type": "code",
   "execution_count": 27,
   "metadata": {},
   "outputs": [],
   "source": [
    "def arrange_data(mb_size):\r\n",
    "    global data, shuffle_map, test_begin_idx\r\n",
    "    shuffle_map = np.arange(data.shape[0])\r\n",
    "    np.random.shuffle(shuffle_map)\r\n",
    "    step_count = int(data.shape[0] * 0.8) // mb_size\r\n",
    "    test_begin_idx = step_count * mb_size\r\n",
    "    return step_count\r\n",
    "\r\n",
    "def get_test_data():\r\n",
    "    global data, shuffle_map, test_begin_idx, output_cnt\r\n",
    "    test_data = data[shuffle_map[test_begin_idx:]]\r\n",
    "    return test_data[:, :-output_cnt], test_data[:, -output_cnt:]\r\n",
    "\r\n",
    "def get_train_data(mb_size, nth):\r\n",
    "    global data, shuffle_map, test_begin_idx, output_cnt\r\n",
    "    if nth == 0:\r\n",
    "        np.random.shuffle(shuffle_map[:test_begin_idx])\r\n",
    "    train_data = data[shuffle_map[mb_size*nth:mb_size*(nth+1)]]\r\n",
    "    return train_data[:, :-output_cnt], train_data[:, -output_cnt:]"
   ]
  },
  {
   "cell_type": "markdown",
   "metadata": {},
   "source": [
    "# TEST block"
   ]
  }
 ],
 "metadata": {
  "interpreter": {
   "hash": "101ba9b0878a37f24d322c2ef0e0a38d9299b41eadd5803319bb00780a61a59d"
  },
  "kernelspec": {
   "display_name": "Python 3.6.10 64-bit ('cv': conda)",
   "name": "python3"
  },
  "language_info": {
   "codemirror_mode": {
    "name": "ipython",
    "version": 3
   },
   "file_extension": ".py",
   "mimetype": "text/x-python",
   "name": "python",
   "nbconvert_exporter": "python",
   "pygments_lexer": "ipython3",
   "version": "3.6.10"
  },
  "orig_nbformat": 4
 },
 "nbformat": 4,
 "nbformat_minor": 2
}