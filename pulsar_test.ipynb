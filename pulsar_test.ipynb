{
 "metadata": {
  "language_info": {
   "codemirror_mode": {
    "name": "ipython",
    "version": 3
   },
   "file_extension": ".py",
   "mimetype": "text/x-python",
   "name": "python",
   "nbconvert_exporter": "python",
   "pygments_lexer": "ipython3",
   "version": "3.7.4-final"
  },
  "orig_nbformat": 2,
  "kernelspec": {
   "name": "Python 3.7.4 64-bit ('base': conda)",
   "display_name": "Python 3.7.4 64-bit ('base': conda)",
   "metadata": {
    "interpreter": {
     "hash": "c4e1a2703ad1e771c82b84a8f88a753fb706f41d94fcd9ee3348ba5d0f45dba1"
    }
   }
  }
 },
 "nbformat": 4,
 "nbformat_minor": 2,
 "cells": [
  {
   "cell_type": "code",
   "execution_count": 49,
   "metadata": {},
   "outputs": [],
   "source": [
    "%run pulsar.ipynb"
   ]
  },
  {
   "cell_type": "code",
   "execution_count": 50,
   "metadata": {
    "tags": []
   },
   "outputs": [
    {
     "output_type": "stream",
     "name": "stdout",
     "text": [
      "Epoch 1: loss=0.098, accuracy=0.969/0.971\n",
      "Epoch 2: loss=0.091, accuracy=0.972/0.974\n",
      "Epoch 3: loss=0.089, accuracy=0.973/0.975\n",
      "Epoch 4: loss=0.089, accuracy=0.974/0.975\n",
      "Epoch 5: loss=0.088, accuracy=0.974/0.975\n",
      "Epoch 6: loss=0.088, accuracy=0.974/0.975\n",
      "Epoch 7: loss=0.088, accuracy=0.974/0.975\n",
      "Epoch 8: loss=0.087, accuracy=0.974/0.975\n",
      "Epoch 9: loss=0.087, accuracy=0.974/0.975\n",
      "Epoch 10: loss=0.087, accuracy=0.974/0.975\n",
      "\n",
      "Final Test: final accuracy = 0.975\n"
     ]
    }
   ],
   "source": [
    "pulsar_exec()"
   ]
  },
  {
   "cell_type": "code",
   "execution_count": 51,
   "metadata": {},
   "outputs": [
    {
     "output_type": "stream",
     "name": "stdout",
     "text": [
      "Epoch 1: loss=-40.178, accuracy=1.000/1.000\n",
      "Epoch 2: loss=-119.972, accuracy=1.000/1.000\n",
      "Epoch 3: loss=-199.564, accuracy=1.000/1.000\n",
      "Epoch 4: loss=-279.155, accuracy=1.000/1.000\n",
      "Epoch 5: loss=-358.745, accuracy=1.000/1.000\n",
      "Epoch 6: loss=-438.336, accuracy=1.000/1.000\n",
      "Epoch 7: loss=-517.927, accuracy=1.000/1.000\n",
      "Epoch 8: loss=-597.518, accuracy=1.000/1.000\n",
      "Epoch 9: loss=-677.109, accuracy=1.000/1.000\n",
      "Epoch 10: loss=-756.700, accuracy=1.000/1.000\n",
      "\n",
      "Final Test: final accuracy = 1.000\n"
     ]
    }
   ],
   "source": [
    "abalone_exec()"
   ]
  }
 ]
}