{
 "cells": [
  {
   "cell_type": "code",
   "execution_count": 2,
   "metadata": {},
   "outputs": [],
   "source": [
    "%run pulsar.ipynb"
   ]
  },
  {
   "cell_type": "code",
   "execution_count": 3,
   "metadata": {},
   "outputs": [
    {
     "name": "stdout",
     "output_type": "stream",
     "text": [
      "Epoch 1: loss=0.154, accuracy=0.959/0.972\n",
      "Epoch 2: loss=0.131, accuracy=0.966/0.972\n",
      "Epoch 3: loss=0.136, accuracy=0.967/0.970\n",
      "Epoch 4: loss=0.133, accuracy=0.968/0.970\n",
      "Epoch 5: loss=0.121, accuracy=0.968/0.969\n",
      "Epoch 6: loss=0.145, accuracy=0.968/0.974\n",
      "Epoch 7: loss=0.122, accuracy=0.970/0.975\n",
      "Epoch 8: loss=0.127, accuracy=0.970/0.976\n",
      "Epoch 9: loss=0.125, accuracy=0.970/0.976\n",
      "Epoch 10: loss=0.134, accuracy=0.968/0.976\n",
      "\n",
      "Final Test: final accuracy = 0.976\n"
     ]
    }
   ],
   "source": [
    "pulsar_exec()"
   ]
  },
  {
   "cell_type": "code",
   "execution_count": 4,
   "metadata": {},
   "outputs": [
    {
     "name": "stdout",
     "output_type": "stream",
     "text": [
      "Epoch 1: loss=-40.173, accuracy=1.000/1.000\n",
      "Epoch 2: loss=-119.967, accuracy=1.000/1.000\n",
      "Epoch 3: loss=-199.559, accuracy=1.000/1.000\n",
      "Epoch 4: loss=-279.150, accuracy=1.000/1.000\n",
      "Epoch 5: loss=-358.740, accuracy=1.000/1.000\n",
      "Epoch 6: loss=-438.331, accuracy=1.000/1.000\n",
      "Epoch 7: loss=-517.923, accuracy=1.000/1.000\n",
      "Epoch 8: loss=-597.514, accuracy=1.000/1.000\n",
      "Epoch 9: loss=-677.104, accuracy=1.000/1.000\n",
      "Epoch 10: loss=-756.694, accuracy=1.000/1.000\n",
      "\n",
      "Final Test: final accuracy = 1.000\n"
     ]
    }
   ],
   "source": [
    "abalone_exec()"
   ]
  }
 ],
 "metadata": {
  "interpreter": {
   "hash": "101ba9b0878a37f24d322c2ef0e0a38d9299b41eadd5803319bb00780a61a59d"
  },
  "kernelspec": {
   "display_name": "Python 3.6.10 64-bit ('cv': conda)",
   "name": "python3"
  },
  "language_info": {
   "codemirror_mode": {
    "name": "ipython",
    "version": 3
   },
   "file_extension": ".py",
   "mimetype": "text/x-python",
   "name": "python",
   "nbconvert_exporter": "python",
   "pygments_lexer": "ipython3",
   "version": "3.6.10"
  },
  "orig_nbformat": 4
 },
 "nbformat": 4,
 "nbformat_minor": 2
}