{
 "metadata": {
  "language_info": {
   "codemirror_mode": {
    "name": "ipython",
    "version": 3
   },
   "file_extension": ".py",
   "mimetype": "text/x-python",
   "name": "python",
   "nbconvert_exporter": "python",
   "pygments_lexer": "ipython3",
   "version": "3.6.10-final"
  },
  "orig_nbformat": 2,
  "kernelspec": {
   "name": "Python 3.6.10 64-bit ('cv': conda)",
   "display_name": "Python 3.6.10 64-bit ('cv': conda)",
   "metadata": {
    "interpreter": {
     "hash": "101ba9b0878a37f24d322c2ef0e0a38d9299b41eadd5803319bb00780a61a59d"
    }
   }
  }
 },
 "nbformat": 4,
 "nbformat_minor": 2,
 "cells": [
  {
   "cell_type": "code",
   "execution_count": 1,
   "metadata": {},
   "outputs": [],
   "source": [
    "%run mlp_model.ipynb\n",
    "%run dataset_pairs.ipynb\n",
    "%run dataset_flowers.ipynb"
   ]
  },
  {
   "cell_type": "code",
   "execution_count": 27,
   "metadata": {
    "tags": []
   },
   "outputs": [
    {
     "output_type": "stream",
     "name": "stdout",
     "text": [
      "Model abalone_model train started:\n",
      "     Epoch 2: cost=8.191, accuracy=0.733/0.711 (0/0 secs)\n",
      "     Epoch 4: cost=7.392, accuracy=0.744/0.694 (0/0 secs)\n",
      "     Epoch 6: cost=7.247, accuracy=0.747/0.737 (0/0 secs)\n",
      "     Epoch 8: cost=7.139, accuracy=0.748/0.725 (0/0 secs)\n",
      "     Epoch 10: cost=7.054, accuracy=0.751/0.746 (0/0 secs)\n",
      "Model abalone_model train ended in 0 secs:\n",
      "Model abalone_model test report: accuracy = 0.727, (0 secs)\n",
      "\n",
      "Model abalone_model Visualization\n",
      "[0.00,0.00,1.00,0.70,0.53,0.17,1.56,0.61,0.39,0.44] => 추정 12.9 : 정답 10.0\n",
      "[0.00,1.00,0.00,0.46,0.38,0.12,0.48,0.22,0.10,0.17] => 추정  8.7 : 정답  7.0\n",
      "[0.00,0.00,1.00,0.58,0.45,0.14,1.14,0.56,0.22,0.29] => 추정 11.3 : 정답  8.0\n"
     ]
    }
   ],
   "source": [
    "ad = AbaloneDataset()\n",
    "am = MlpModel('abalone_model', ad, [])\n",
    "am.exec_all(epoch_count=10, report=2)"
   ]
  },
  {
   "cell_type": "code",
   "execution_count": 30,
   "metadata": {},
   "outputs": [
    {
     "output_type": "stream",
     "name": "stdout",
     "text": [
      "Model pulsar_model train ended in 4 secs:\nModel pulsar_model test report: accuracy = 0.974, (0 secs)\n\nModel pulsar_model Visualization\n[ 96.2, 45.0,  0.5,...] => 추정 별(확률 0.01) : 정답 별 => O\n[126.4, 51.4,  0.1,...] => 추정 별(확률 0.00) : 정답 별 => O\n[106.5, 49.5,  0.3,...] => 추정 별(확률 0.01) : 정답 별 => O\n"
     ]
    }
   ],
   "source": [
    "pd = PulsarDataset()\n",
    "pm = MlpModel('pulsar_model', pd, [4])\n",
    "pm.exec_all()"
   ]
  },
  {
   "cell_type": "code",
   "execution_count": 34,
   "metadata": {},
   "outputs": [
    {
     "output_type": "stream",
     "name": "stdout",
     "text": [
      "Model pulsar_model Visualization\n[119.1, 57.0,  0.4,...] => 추정 별(확률 0.07) : 정답 별 => O\n[ 95.1, 46.7,  1.1,...] => 추정 펄서(확률 0.52) : 정답 펄서 => O\n[103.8, 44.7,  0.9,...] => 추정 별(확률 0.14) : 정답 펄서 => X\n[116.8, 48.3,  0.0,...] => 추정 별(확률 0.01) : 정답 별 => O\n[111.1, 50.4,  0.4,...] => 추정 별(확률 0.03) : 정답 별 => O\n"
     ]
    }
   ],
   "source": [
    "pm.visualize(5)"
   ]
  },
  {
   "cell_type": "code",
   "execution_count": 3,
   "metadata": {},
   "outputs": [
    {
     "output_type": "stream",
     "name": "stdout",
     "text": [
      "Model steel_model train started:\n",
      "     Epoch 10: cost=1.856, accuracy=0.343/0.402 (1/1 secs)\n",
      "     Epoch 20: cost=1.796, accuracy=0.343/0.402 (0/1 secs)\n",
      "     Epoch 30: cost=1.760, accuracy=0.343/0.402 (0/1 secs)\n",
      "     Epoch 40: cost=1.737, accuracy=0.343/0.402 (1/2 secs)\n",
      "     Epoch 50: cost=1.722, accuracy=0.343/0.402 (0/2 secs)\n",
      "Model steel_model train ended in 2 secs:\n",
      "Model steel_model test report: accuracy = 0.347, (0 secs)\n",
      "\n",
      "Model steel_model Visualization\n",
      "추정확률 분포 [10,11,17, 8, 7,18,30] => 추정 Other_Faults : 정답 Z_Scratch => X\n",
      "추정확률 분포 [10,11,17, 8, 7,18,30] => 추정 Other_Faults : 정답 Pastry => X\n",
      "추정확률 분포 [10,11,17, 8, 7,18,30] => 추정 Other_Faults : 정답 Other_Faults => O\n",
      "추정확률 분포 [10,11,17, 8, 7,18,30] => 추정 Other_Faults : 정답 Z_Scratch => X\n",
      "추정확률 분포 [10,11,17, 8, 7,18,30] => 추정 Other_Faults : 정답 Pastry => X\n",
      "추정확률 분포 [10,11,17, 8, 7,18,30] => 추정 Other_Faults : 정답 Other_Faults => O\n",
      "추정확률 분포 [10,11,17, 8, 7,18,30] => 추정 Other_Faults : 정답 Z_Scratch => X\n",
      "추정확률 분포 [10,11,17, 8, 7,18,30] => 추정 Other_Faults : 정답 Pastry => X\n",
      "추정확률 분포 [10,11,17, 8, 7,18,30] => 추정 Other_Faults : 정답 Other_Faults => O\n"
     ]
    }
   ],
   "source": [
    "sd = SteelDataset()\n",
    "sm = MlpModel('steel_model', sd, [12, 7])\n",
    "sm.exec_all(epoch_count=50, report=10)"
   ]
  },
  {
   "cell_type": "code",
   "execution_count": 4,
   "metadata": {},
   "outputs": [
    {
     "output_type": "stream",
     "name": "stdout",
     "text": [
      "Model pulsar_select_model train ended in 3 secs:\nModel pulsar_select_model test report: accuracy = 0.969, (0 secs)\n\nModel pulsar_select_model Visualization\n추정확률 분포 [99, 1] => 추정 별 : 정답 별 => O\n추정확률 분포 [95, 5] => 추정 별 : 정답 별 => O\n추정확률 분포 [99, 1] => 추정 별 : 정답 별 => O\n"
     ]
    }
   ],
   "source": [
    "psd = PulsarSelectDataset()\n",
    "psm = MlpModel('pulsar_select_model', psd, [4])\n",
    "psm.exec_all()"
   ]
  },
  {
   "cell_type": "code",
   "execution_count": 5,
   "metadata": {},
   "outputs": [
    {
     "output_type": "error",
     "ename": "FileNotFoundError",
     "evalue": "[WinError 3] 지정된 경로를 찾을 수 없습니다: 'data\\\\flowers'",
     "traceback": [
      "\u001b[1;31m---------------------------------------------------------------------------\u001b[0m",
      "\u001b[1;31mFileNotFoundError\u001b[0m                         Traceback (most recent call last)",
      "\u001b[1;32m<ipython-input-5-587a240ce4c4>\u001b[0m in \u001b[0;36m<module>\u001b[1;34m\u001b[0m\n\u001b[1;32m----> 1\u001b[1;33m \u001b[0mfd\u001b[0m \u001b[1;33m=\u001b[0m \u001b[0mFlowersDataset\u001b[0m\u001b[1;33m(\u001b[0m\u001b[1;33m)\u001b[0m\u001b[1;33m\u001b[0m\u001b[1;33m\u001b[0m\u001b[0m\n\u001b[0m\u001b[0;32m      2\u001b[0m \u001b[0mfm\u001b[0m \u001b[1;33m=\u001b[0m \u001b[0mMlpModel\u001b[0m\u001b[1;33m(\u001b[0m\u001b[1;34m'flowers_model_1'\u001b[0m\u001b[1;33m,\u001b[0m \u001b[0mfd\u001b[0m\u001b[1;33m,\u001b[0m \u001b[1;33m[\u001b[0m\u001b[1;36m10\u001b[0m\u001b[1;33m]\u001b[0m\u001b[1;33m)\u001b[0m\u001b[1;33m\u001b[0m\u001b[1;33m\u001b[0m\u001b[0m\n\u001b[0;32m      3\u001b[0m \u001b[0mfm\u001b[0m\u001b[1;33m.\u001b[0m\u001b[0mexec_all\u001b[0m\u001b[1;33m(\u001b[0m\u001b[0mepoch_count\u001b[0m\u001b[1;33m=\u001b[0m\u001b[1;36m10\u001b[0m\u001b[1;33m,\u001b[0m \u001b[0mreport\u001b[0m\u001b[1;33m=\u001b[0m\u001b[1;36m2\u001b[0m\u001b[1;33m)\u001b[0m\u001b[1;33m\u001b[0m\u001b[1;33m\u001b[0m\u001b[0m\n",
      "\u001b[1;32m<ipython-input-1-aafab95cc58d>\u001b[0m in \u001b[0;36mflowers_init\u001b[1;34m(self, resolution, input_shape)\u001b[0m\n\u001b[0;32m      4\u001b[0m \u001b[1;33m\u001b[0m\u001b[0m\n\u001b[0;32m      5\u001b[0m     \u001b[0mpath\u001b[0m \u001b[1;33m=\u001b[0m \u001b[1;34m'data\\\\flowers'\u001b[0m\u001b[1;33m\u001b[0m\u001b[1;33m\u001b[0m\u001b[0m\n\u001b[1;32m----> 6\u001b[1;33m     \u001b[0mself\u001b[0m\u001b[1;33m.\u001b[0m\u001b[0mtarget_names\u001b[0m \u001b[1;33m=\u001b[0m \u001b[0mlist_dir\u001b[0m\u001b[1;33m(\u001b[0m\u001b[0mpath\u001b[0m\u001b[1;33m)\u001b[0m\u001b[1;33m\u001b[0m\u001b[1;33m\u001b[0m\u001b[0m\n\u001b[0m\u001b[0;32m      7\u001b[0m \u001b[1;33m\u001b[0m\u001b[0m\n\u001b[0;32m      8\u001b[0m     \u001b[0mimages\u001b[0m \u001b[1;33m=\u001b[0m \u001b[1;33m[\u001b[0m\u001b[1;33m]\u001b[0m\u001b[1;33m\u001b[0m\u001b[1;33m\u001b[0m\u001b[0m\n",
      "\u001b[1;32m<ipython-input-1-a395de8053af>\u001b[0m in \u001b[0;36mlist_dir\u001b[1;34m(path)\u001b[0m\n\u001b[0;32m      1\u001b[0m \u001b[1;32mdef\u001b[0m \u001b[0mlist_dir\u001b[0m\u001b[1;33m(\u001b[0m\u001b[0mpath\u001b[0m\u001b[1;33m)\u001b[0m\u001b[1;33m:\u001b[0m\u001b[1;33m\u001b[0m\u001b[1;33m\u001b[0m\u001b[0m\n\u001b[1;32m----> 2\u001b[1;33m     \u001b[0mfilenames\u001b[0m \u001b[1;33m=\u001b[0m \u001b[0mos\u001b[0m\u001b[1;33m.\u001b[0m\u001b[0mlistdir\u001b[0m\u001b[1;33m(\u001b[0m\u001b[0mpath\u001b[0m\u001b[1;33m)\u001b[0m\u001b[1;33m\u001b[0m\u001b[1;33m\u001b[0m\u001b[0m\n\u001b[0m\u001b[0;32m      3\u001b[0m     \u001b[0mfilenames\u001b[0m\u001b[1;33m.\u001b[0m\u001b[0msort\u001b[0m\u001b[1;33m(\u001b[0m\u001b[1;33m)\u001b[0m\u001b[1;33m\u001b[0m\u001b[1;33m\u001b[0m\u001b[0m\n\u001b[0;32m      4\u001b[0m     \u001b[1;32mreturn\u001b[0m \u001b[0mfilenames\u001b[0m\u001b[1;33m\u001b[0m\u001b[1;33m\u001b[0m\u001b[0m\n",
      "\u001b[1;31mFileNotFoundError\u001b[0m: [WinError 3] 지정된 경로를 찾을 수 없습니다: 'data\\\\flowers'"
     ]
    }
   ],
   "source": [
    "fd = FlowersDataset()\n",
    "fm = MlpModel('flowers_model_1', fd, [10])\n",
    "fm.exec_all(epoch_count=10, report=2)"
   ]
  },
  {
   "cell_type": "code",
   "execution_count": null,
   "metadata": {},
   "outputs": [],
   "source": [
    "fm2 = MlpModel('flowers_model_2', fd, [30, 10])\n",
    "fm2.exec_all(epoch_count=10, report=2)"
   ]
  }
 ]
}